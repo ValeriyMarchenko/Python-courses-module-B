{
 "cells": [
  {
   "cell_type": "code",
   "execution_count": 1,
   "metadata": {},
   "outputs": [
    {
     "name": "stdout",
     "output_type": "stream",
     "text": [
      "Sum is: 9\n"
     ]
    }
   ],
   "source": [
    "#1. С клавиатуры введено натуральное число от 1 до 99. Выведите сумму его цифр.\n",
    "a = int(input(\"Input number: \"))\n",
    "b = a % 10\n",
    "c = a // 10\n",
    "print(\"Sum is:\", b + c)"
   ]
  },
  {
   "cell_type": "code",
   "execution_count": null,
   "metadata": {},
   "outputs": [
    {
     "name": "stdout",
     "output_type": "stream",
     "text": [
      "Hypotenuse is: 5.0\n"
     ]
    }
   ],
   "source": [
    "#2. С клавиатуры пользователь вводит два числа a и b. Выведите гипотенузу треугольника с заданными катетами.\n",
    "a = int(input(\"Input 1st number: \"))\n",
    "b = int(input(\"Input 2nd number: \"))\n",
    "c = (a**2 + b**2)**0.5\n",
    "print(\"Hypotenuse is:\", c)"
   ]
  },
  {
   "cell_type": "code",
   "execution_count": null,
   "metadata": {},
   "outputs": [
    {
     "name": "stdout",
     "output_type": "stream",
     "text": [
      "gmail.com\n"
     ]
    }
   ],
   "source": [
    "#3. Пользователь вводит с клавиатуры свой e-mail. Выведите домен этой электронной почты.\n",
    "mail = input(\"Input email: \")\n",
    "mail_split = mail.split(\"@\")\n",
    "print(mail_split[1])"
   ]
  },
  {
   "cell_type": "code",
   "execution_count": 1,
   "metadata": {},
   "outputs": [
    {
     "name": "stdout",
     "output_type": "stream",
     "text": [
      "0 -- 1\n",
      "3 -- 4\n",
      "6 -- 7\n",
      "9 -- 10\n",
      "Sum is: 22\n"
     ]
    }
   ],
   "source": [
    "#4. В коде задан список А. Выведите сумму элементов списка с индексами, кратными 3.\n",
    "A = [1, 2, 3, 4, 5, 6, 7, 8, 9, 10]\n",
    "s = 0\n",
    "for i, value in enumerate(A):\n",
    "    if i % 3 == 0:\n",
    "        print(i,\"--\", value)\n",
    "        s += value\n",
    "print(\"Sum is:\", s)"
   ]
  },
  {
   "cell_type": "code",
   "execution_count": null,
   "metadata": {},
   "outputs": [
    {
     "name": "stdout",
     "output_type": "stream",
     "text": [
      "[10, 1, 2, 3, 4, 5, 6, 7, 8, 9]\n"
     ]
    }
   ],
   "source": [
    "#5. В коде задан список А. Циклически сдвиньте элементы списка вправо.\n",
    "A = [1, 2, 3, 4, 5, 6, 7, 8, 9, 10]\n",
    "step = 1\n",
    "for i in range(step):\n",
    "    A.insert(0, A.pop())\n",
    "print(A)"
   ]
  },
  {
   "cell_type": "code",
   "execution_count": null,
   "metadata": {},
   "outputs": [
    {
     "name": "stdout",
     "output_type": "stream",
     "text": [
      "[3, 5, 7, 1, 2, 8, 79, 45]\n",
      "5, 7 ---are minimum\n",
      "5, 7 are lll\n"
     ]
    }
   ],
   "source": [
    "#6. В коде задан спиоск А. Найдите второй и тертий минимумы этого списка.\n",
    "A = [3, 5, 7, 1, 2, 8, 79, 45]\n",
    "#A.sort()\n",
    "print(A)\n",
    "print(A[1],\", \", A[2], \" ---are minimum\", sep = \"\")"
   ]
  },
  {
   "cell_type": "code",
   "execution_count": 61,
   "metadata": {},
   "outputs": [
    {
     "name": "stdout",
     "output_type": "stream",
     "text": [
      "5\n"
     ]
    }
   ],
   "source": [
    "#7. Сначала пользователь вводит число n с клавиатуры. После с новой строки он вводит число в n-ичной системе счисления. Нужно вывести это число в десятичной системе.\n",
    "a = input(\"Input numder: \")\n",
    "base = int(input(\"Input system: \"))\n",
    "print(int(a, base))"
   ]
  },
  {
   "cell_type": "code",
   "execution_count": 64,
   "metadata": {},
   "outputs": [
    {
     "name": "stdout",
     "output_type": "stream",
     "text": [
      "[1, 2, 3]\n",
      "[4, 5, 6]\n",
      "[1, 2, 3, 4, 5, 6]\n"
     ]
    }
   ],
   "source": [
    "#8. В коде задан список А, который состоит из списков. Нужно в переменной В получить список, который получается в результате склеивания списков из А.\n",
    "A = [[1, 2, 3], [4, 5, 6]]\n",
    "for i in A:\n",
    "    print(i)\n",
    "B = A[0] + A[1]\n",
    "print(B)"
   ]
  },
  {
   "cell_type": "code",
   "execution_count": 2,
   "metadata": {},
   "outputs": [
    {
     "name": "stdout",
     "output_type": "stream",
     "text": [
      "Symbol h is 13 times in text\n",
      "Symbol a is 36 times in text\n",
      "Symbol v is 8 times in text\n",
      "Symbol e is 37 times in text\n",
      "Symbol y is 8 times in text\n",
      "Symbol o is 49 times in text\n",
      "Symbol u is 13 times in text\n",
      "Symbol r is 22 times in text\n",
      "Symbol d is 11 times in text\n",
      "Symbol m is 2 times in text\n",
      "Symbol f is 10 times in text\n",
      "Symbol n is 32 times in text\n",
      "Symbol i is 24 times in text\n",
      "Symbol g is 9 times in text\n",
      "Symbol b is 10 times in text\n",
      "Symbol k is 10 times in text\n",
      "Symbol s is 21 times in text\n",
      "Symbol p is 5 times in text\n",
      "Symbol ? is 1 times in text\n",
      "Symbol c is 10 times in text\n",
      "Symbol w is 12 times in text\n",
      "Symbol t is 33 times in text\n",
      "Symbol , is 4 times in text\n",
      "Symbol l is 15 times in text\n",
      "Symbol . is 5 times in text\n",
      "Symbol / is 3 times in text\n",
      "Symbol - is 1 times in text\n",
      "Symbol 4 is 1 times in text\n",
      "Symbol 0 is 2 times in text\n",
      "Symbol £ is 1 times in text\n",
      "Symbol 1 is 1 times in text\n",
      "Symbol 5 is 1 times in text\n",
      "Symbol ’ is 1 times in text\n",
      "Symbol x is 1 times in text\n"
     ]
    }
   ],
   "source": [
    "#9. В коде задана переменная text с текстом. Нужно подсчитать для этого текста статистику: сколько раз какой символ в этом тексте встретился.\n",
    "text = \"\"\"Have you ever dreamed of running a bookshop? You can have a go for a week at the Open Book Store in Wigton, Scotland./\n",
    " In fact, if you book a holiday at the self-catering flat on Airbnb, you also have to work for 40 hours in the bookshop downstairs./\n",
    "  A week in the flat costs £150. You won’t get paid for working, but you can use your own creative ideas to sell books and gain valuable experience./\n",
    "   Wigton is Scotlands national book town and this new venture is attracting interest from all over the world.\"\"\"\n",
    "text = text.lower()\n",
    "text = text.replace(\" \", \"\")\n",
    "text = text.replace(\"\\n\", \"\")\n",
    "count = {}\n",
    "for char in text:\n",
    "    if char in count:\n",
    "        count[char] += 1\n",
    "    else:\n",
    "        count[char] = 1\n",
    "for char, cnt in count.items():\n",
    "    print(f\"Symbol {char} is {cnt} times in text\")"
   ]
  },
  {
   "cell_type": "code",
   "execution_count": null,
   "metadata": {},
   "outputs": [
    {
     "name": "stdout",
     "output_type": "stream",
     "text": [
      "True\n"
     ]
    }
   ],
   "source": [
    "#10. Пользователь вводит число n. Нужно вывести, является ли число простым.\n",
    "a = int(input(\"Input number: \"))\n",
    "d = 2\n",
    "while d * d <= a and a % d != 0:\n",
    "    d += 1\n",
    "print(d * d > a)"
   ]
  },
  {
   "cell_type": "code",
   "execution_count": null,
   "metadata": {},
   "outputs": [
    {
     "name": "stdout",
     "output_type": "stream",
     "text": [
      "Hello my name is Jonh\n",
      "['Hello', 'name', 'Jonh']\n",
      "Hello name Jonh "
     ]
    }
   ],
   "source": [
    "#11. Пользователь вводит в консоль строку. Удалите в этой строке каждое второе слово.\n",
    "sstr = str(input(\"Input string: \"))\n",
    "print(sstr)\n",
    "sstr_split = sstr.split(\" \")\n",
    "print(sstr_split[::2])\n",
    "for i in range(len(sstr_split)):\n",
    "    if i % 2 == 0:\n",
    "        print(sstr_split[i], end=' ')"
   ]
  },
  {
   "cell_type": "code",
   "execution_count": null,
   "metadata": {},
   "outputs": [
    {
     "name": "stdout",
     "output_type": "stream",
     "text": [
      "binary form is: 0b101\n"
     ]
    }
   ],
   "source": [
    "#12. Пользователь вводит в консоль целое число. Нужно вывести запись этого числа в двоичной системе счисления.\n",
    "a = int(input(\"Input number: \"))\n",
    "print(\"binary form is:\", bin(a))"
   ]
  }
 ],
 "metadata": {
  "interpreter": {
   "hash": "ae11ba872b309ee3de4c7f48a89f2443e5870b494b11bd84f8c0311ddd29d5b8"
  },
  "kernelspec": {
   "display_name": "Python 3.10.0 64-bit",
   "language": "python",
   "name": "python3"
  },
  "language_info": {
   "codemirror_mode": {
    "name": "ipython",
    "version": 3
   },
   "file_extension": ".py",
   "mimetype": "text/x-python",
   "name": "python",
   "nbconvert_exporter": "python",
   "pygments_lexer": "ipython3",
   "version": "3.10.0"
  },
  "orig_nbformat": 4
 },
 "nbformat": 4,
 "nbformat_minor": 2
}
