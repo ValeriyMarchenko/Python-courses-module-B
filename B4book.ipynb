{
 "cells": [
  {
   "cell_type": "code",
   "execution_count": 7,
   "metadata": {},
   "outputs": [
    {
     "data": {
      "text/plain": [
       "8"
      ]
     },
     "execution_count": 7,
     "metadata": {},
     "output_type": "execute_result"
    }
   ],
   "source": [
    "#Напишите функцию, которая будет возвращать количество делителей числа а.\n",
    "def num_div(a):\n",
    "    s = 0\n",
    "    for i in range(1, a + 1):\n",
    "        if a % i == 0:\n",
    "            s += 1\n",
    "    return s\n",
    "\n",
    "a = int(input(\"Input number: \"))\n",
    "num_div(a)"
   ]
  },
  {
   "cell_type": "code",
   "execution_count": 37,
   "metadata": {},
   "outputs": [
    {
     "data": {
      "text/plain": [
       "True"
      ]
     },
     "execution_count": 37,
     "metadata": {},
     "output_type": "execute_result"
    }
   ],
   "source": [
    "#Напишите функцию, которая проверяет, является ли данная строка палиндромом или нет, и возвращается результат проверки.\n",
    "def check(text):\n",
    "    text = text.lower()\n",
    "    text = text.replace(\" \", \"\")\n",
    "    text_rev = text[::-1]\n",
    "    if text == text_rev:\n",
    "        return True\n",
    "    else:\n",
    "        return False\n",
    "\n",
    "        \n",
    "\n",
    "text = input(\"Input text: \")\n",
    "check(text)"
   ]
  },
  {
   "cell_type": "code",
   "execution_count": 39,
   "metadata": {},
   "outputs": [
    {
     "name": "stdout",
     "output_type": "stream",
     "text": [
      "3\n",
      "10\n"
     ]
    }
   ],
   "source": [
    "x = 3\n",
    "\n",
    "\n",
    "def func():\n",
    "   global x # объявляем, что переменная является глобальной\n",
    "   print(x)\n",
    "   x = 5\n",
    "   x += 5\n",
    "   return x\n",
    "\n",
    "\n",
    "func()\n",
    "print(x)"
   ]
  },
  {
   "cell_type": "code",
   "execution_count": 3,
   "metadata": {},
   "outputs": [
    {
     "name": "stdout",
     "output_type": "stream",
     "text": [
      "24\n"
     ]
    }
   ],
   "source": [
    "def arg(*args):\n",
    "    v = 1\n",
    "    for i in args:\n",
    "        v *= i\n",
    "    return v\n",
    "\n",
    "\n",
    "a = arg(*list(range(1, 5)))\n",
    "print(a)"
   ]
  },
  {
   "cell_type": "code",
   "execution_count": 6,
   "metadata": {},
   "outputs": [
    {
     "data": {
      "text/plain": [
       "210"
      ]
     },
     "execution_count": 6,
     "metadata": {},
     "output_type": "execute_result"
    }
   ],
   "source": [
    "#С помощью рекурсивной функции найдите сумму чисел от 1 до n.\n",
    "def rec(n):\n",
    "    if n == 1:\n",
    "        return 1\n",
    "    return n + rec(n-1)\n",
    "rec(20)"
   ]
  },
  {
   "cell_type": "code",
   "execution_count": 9,
   "metadata": {},
   "outputs": [
    {
     "name": "stdout",
     "output_type": "stream",
     "text": [
      "Hello mmr\n",
      "ello mmr\n",
      "llo mmr\n",
      "lo mmr\n",
      "o mmr\n",
      " mmr\n",
      "mmr\n",
      "mr\n",
      "r\n",
      "rmm olleH\n"
     ]
    }
   ],
   "source": [
    "#С помощью рекурсивной функции развернуть строку.\n",
    "def str_rec(sttr):\n",
    "    if len(sttr) == 0:\n",
    "        return sttr\n",
    "    print(sttr)\n",
    "    return str_rec(sttr[1:]) + sttr[0]\n",
    "sttr = (\"Hello mmr\")  \n",
    "print(str_rec(sttr))"
   ]
  },
  {
   "cell_type": "code",
   "execution_count": 3,
   "metadata": {},
   "outputs": [
    {
     "name": "stdout",
     "output_type": "stream",
     "text": [
      "11\n"
     ]
    }
   ],
   "source": [
    "#Дано натуральное число N. Вычислите сумму его цифр.\n",
    "def sum_rec(n):\n",
    "    if n > 0:\n",
    "        return sum_rec(n // 10) + n % 10\n",
    "    else: \n",
    "        return 0\n",
    "\n",
    "n = int(input(\"Input number: \"))\n",
    "print(sum_rec(n))"
   ]
  },
  {
   "cell_type": "code",
   "execution_count": 1,
   "metadata": {},
   "outputs": [
    {
     "name": "stdout",
     "output_type": "stream",
     "text": [
      "0\n",
      "1\n",
      "1\n",
      "2\n",
      "3\n",
      "5\n",
      "8\n",
      "13\n",
      "21\n",
      "34\n",
      "55\n",
      "89\n",
      "144\n",
      "233\n",
      "377\n",
      "610\n",
      "987\n"
     ]
    }
   ],
   "source": [
    "# 0 1 1 2 3 5 8 13\n",
    "def fib():\n",
    "    a, b = 0, 1\n",
    "    yield a \n",
    "    yield b\n",
    "    while True:\n",
    "        a, b = b, a + b\n",
    "        yield b\n",
    "for num in fib():\n",
    "    if num > 1000:\n",
    "        break\n",
    "    print(num)"
   ]
  },
  {
   "cell_type": "code",
   "execution_count": 11,
   "metadata": {},
   "outputs": [
    {
     "name": "stdout",
     "output_type": "stream",
     "text": [
      "5\n",
      "45\n",
      "85\n"
     ]
    }
   ],
   "source": [
    "#Cоздать функцию-генератор, возвращающую бесконечную последовательность натуральных чисел.\n",
    "# 1 3 5\n",
    "def sq(a = 1, n = 1):\n",
    "    yield a \n",
    "    while True:\n",
    "        a += n\n",
    "        yield a\n",
    "a = int(input(\"Sq start: \"))\n",
    "n = int(input(\"Sq step: \"))\n",
    "for prnt in sq(a, n):\n",
    "    if prnt > 100:\n",
    "        break\n",
    "    print(prnt)"
   ]
  },
  {
   "cell_type": "code",
   "execution_count": 17,
   "metadata": {},
   "outputs": [
    {
     "name": "stdout",
     "output_type": "stream",
     "text": [
      "1\n",
      "3\n",
      "3\n",
      "1\n",
      "6\n",
      "3\n",
      "1\n",
      "9\n",
      "3\n",
      "1\n"
     ]
    }
   ],
   "source": [
    "#Создать генератор цикла, то есть в функцию на входе будет передаваться массив, например, [1, 2, 3],\n",
    "#генератор будет вечно работать возвращая 1 2 3 1 2 3… и так далее.\n",
    "a = [1, 2, 3]\n",
    "\n",
    "def res(a):\n",
    "    while True:\n",
    "        for i in range(len(a)):\n",
    "            yield a[i]\n",
    "\n",
    "b = res(a)\n",
    "for i in range(10):\n",
    "    print(next(b))\n",
    "\n"
   ]
  },
  {
   "cell_type": "code",
   "execution_count": 71,
   "metadata": {},
   "outputs": [
    {
     "name": "stdout",
     "output_type": "stream",
     "text": [
      "start: <function pown at 0x000001FD5FD7D480>\n",
      "End:<function pown at 0x000001FD5FD7D480>. Time: 0.0000000000\n",
      "Функция <function pown at 0x000001FD5FD7D480> выполнялась 100 раз. Среднее время: 1.0000000000\n",
      "Функция <function inb_pow at 0x000001FD5FD7C940> выполнялась 100 раз. Среднее время: 1.0000000000\n"
     ]
    }
   ],
   "source": [
    "import time\n",
    "\n",
    "N = 100\n",
    "\n",
    "def decorator(fn):\n",
    "    def wrapper():\n",
    "        print(f\"start: {fn}\")\n",
    "        t0 = time.time()\n",
    "        result = fn()\n",
    "        dt = time.time() - t0\n",
    "        print(f\"End:{fn}. Time: {dt:.10f}\")\n",
    "        return dt\n",
    "    return wrapper\n",
    "\n",
    "def pown():\n",
    "    # time.sleep(0.1)\n",
    "    return 10000000 ** 2\n",
    "\n",
    "def inb_pow():\n",
    "    # time.sleep(0.1)\n",
    "    return pow(10000000, 2)\n",
    "\n",
    "# pown = decorator(pown)\n",
    "# inb_pow = decorator(inb_pow)\n",
    "\n",
    "\n",
    "x = decorator(pown)\n",
    "y = decorator(inb_pow)\n",
    "\n",
    "Sr_pown = 0\n",
    "Sr_inb = 0\n",
    "for _ in range(N):\n",
    "    Sr_pown += x()\n",
    "    Sr_inb += y()\n",
    "\n",
    "print(f\"Функция {pown} выполнялась {N} раз. Среднее время: {(Sr_pown / N):.10f}\")\n",
    "print(f\"Функция {inb_pow} выполнялась {N} раз. Среднее время: {(Sr_inb / N):.10f}\")\n",
    "\n",
    "# print(pown())\n",
    "# print(inb_pow())\n",
    "# pown()\n",
    "# inb_pow()\n",
    "# print(x)\n",
    "# print(y)"
   ]
  },
  {
   "cell_type": "code",
   "execution_count": 88,
   "metadata": {},
   "outputs": [
    {
     "name": "stdout",
     "output_type": "stream",
     "text": [
      "64\n",
      "Func was called 1 times\n",
      "64\n",
      "Func was called 2 times\n",
      "64\n",
      "Func was called 3 times\n",
      "64\n",
      "Func was called 4 times\n",
      "64\n",
      "Func was called 5 times\n"
     ]
    }
   ],
   "source": [
    "#Напишите декоратор, который будет подсчитывать количество вызовов декорируемой функции.\n",
    "#  Для хранения переменной содержащей, количество вызовов, используйте nonlocal область декоратора.\n",
    "\n",
    "def decorator(fn):\n",
    "    #nonlocal space\n",
    "    fn_count = 0\n",
    "    def wrapper(*args, **kwargs):\n",
    "        #before func\n",
    "        nonlocal fn_count \n",
    "        result = fn(*args, **kwargs)\n",
    "        fn_count += 1\n",
    "        #after func\n",
    "        print(f\"Func was called {fn_count} times\")\n",
    "        return result\n",
    "    return wrapper\n",
    "\n",
    "@decorator\n",
    "def powpow(a):\n",
    "    print(pow(a, 3))\n",
    "\n",
    "a = int(input(\"Input number: \"))\n",
    "n = int(input(\"... times: \"))\n",
    "\n",
    "for i in range(n):\n",
    "    powpow(a)"
   ]
  },
  {
   "cell_type": "code",
   "execution_count": 118,
   "metadata": {},
   "outputs": [
    {
     "name": "stdout",
     "output_type": "stream",
     "text": [
      "[1, 2, 3, 4, 1, 2, 6, 5, 7, 5, 4, 3, 2]\n",
      "Cache miss (1,)\n",
      "{(1,): 123456789}\n",
      "Cache miss (2,)\n",
      "{(1,): 123456789, (2,): 246913578}\n",
      "Cache miss (3,)\n",
      "{(1,): 123456789, (2,): 246913578, (3,): 370370367}\n",
      "Cache miss (4,)\n",
      "{(1,): 123456789, (2,): 246913578, (3,): 370370367, (4,): 493827156}\n",
      "Cache hit (1,)\n",
      "{(1,): 123456789, (2,): 246913578, (3,): 370370367, (4,): 493827156}\n",
      "Cache hit (2,)\n",
      "{(1,): 123456789, (2,): 246913578, (3,): 370370367, (4,): 493827156}\n",
      "Cache miss (6,)\n",
      "{(1,): 123456789, (2,): 246913578, (3,): 370370367, (4,): 493827156, (6,): 740740734}\n",
      "Cache miss (5,)\n",
      "{(1,): 123456789, (2,): 246913578, (3,): 370370367, (4,): 493827156, (6,): 740740734, (5,): 617283945}\n",
      "Cache miss (7,)\n",
      "{(1,): 123456789, (2,): 246913578, (3,): 370370367, (4,): 493827156, (6,): 740740734, (5,): 617283945, (7,): 864197523}\n",
      "Cache hit (5,)\n",
      "{(1,): 123456789, (2,): 246913578, (3,): 370370367, (4,): 493827156, (6,): 740740734, (5,): 617283945, (7,): 864197523}\n",
      "Cache hit (4,)\n",
      "{(1,): 123456789, (2,): 246913578, (3,): 370370367, (4,): 493827156, (6,): 740740734, (5,): 617283945, (7,): 864197523}\n",
      "Cache hit (3,)\n",
      "{(1,): 123456789, (2,): 246913578, (3,): 370370367, (4,): 493827156, (6,): 740740734, (5,): 617283945, (7,): 864197523}\n",
      "Cache hit (2,)\n",
      "{(1,): 123456789, (2,): 246913578, (3,): 370370367, (4,): 493827156, (6,): 740740734, (5,): 617283945, (7,): 864197523}\n"
     ]
    }
   ],
   "source": [
    "# Напишите декоратор, который будет сохранять результаты выполнения декорируемой функции в словаре.\n",
    "# Словарь должен находиться в nonlocal области в следующем формате:\n",
    "# по ключу располагается аргумент функции, по значению результат работы функции, например, {n: f(n)}.\n",
    "\n",
    "def decor(fn):\n",
    "    dic = {}\n",
    "    def wrapper(*args, **kwargs):\n",
    "        nonlocal dic\n",
    "        if args in dic:\n",
    "            print(f'Cache hit {args}')\n",
    "            print(dic)\n",
    "            return dic[args]\n",
    "        print(f'Cache miss {args}')\n",
    "        res = fn(*args, **kwargs)\n",
    "        dic[args] = res\n",
    "        print(dic)\n",
    "        return res\n",
    "    return wrapper\n",
    "\n",
    "@decor\n",
    "def powpow(a):\n",
    "    return a * 123456789\n",
    "\n",
    "inp = input(\"Input number: \")\n",
    "a = list(map(int, inp.split()))\n",
    "print(a)    \n",
    "for i in a:\n",
    "    powpow(i)"
   ]
  },
  {
   "cell_type": "code",
   "execution_count": 121,
   "metadata": {},
   "outputs": [
    {
     "name": "stdout",
     "output_type": "stream",
     "text": [
      "Hello username\n",
      "None\n"
     ]
    }
   ],
   "source": [
    "def func_return(name):\n",
    "    print(f'Hello {name}')\n",
    "msg = func_return('username')\n",
    "print(msg) # \"Hello username\""
   ]
  },
  {
   "cell_type": "code",
   "execution_count": 122,
   "metadata": {},
   "outputs": [
    {
     "name": "stdout",
     "output_type": "stream",
     "text": [
      "Hello username\n"
     ]
    }
   ],
   "source": [
    "def func_return(name):\n",
    "    return f'Hello {name}'\n",
    "msg = func_return('username')\n",
    "print(msg) # \"Hello username\""
   ]
  }
 ],
 "metadata": {
  "interpreter": {
   "hash": "fdb9b59dfc52f442e636964ade4cea2b5a6ecf40e76f4b6966161d96d4c856f2"
  },
  "kernelspec": {
   "display_name": "Python 3.10.1 64-bit",
   "language": "python",
   "name": "python3"
  },
  "language_info": {
   "codemirror_mode": {
    "name": "ipython",
    "version": 3
   },
   "file_extension": ".py",
   "mimetype": "text/x-python",
   "name": "python",
   "nbconvert_exporter": "python",
   "pygments_lexer": "ipython3",
   "version": "3.10.1"
  },
  "orig_nbformat": 4
 },
 "nbformat": 4,
 "nbformat_minor": 2
}
