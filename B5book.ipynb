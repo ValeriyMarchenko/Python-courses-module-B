{
 "cells": [
  {
   "cell_type": "code",
   "execution_count": 1,
   "metadata": {},
   "outputs": [
    {
     "name": "stdout",
     "output_type": "stream",
     "text": [
      "2492897724928\n",
      "2492897724928\n"
     ]
    }
   ],
   "source": [
    "L = ['a', 'b', 'c']\n",
    "print(id(L))\n",
    "\n",
    "L.append('d')\n",
    "print(id(L))"
   ]
  },
  {
   "cell_type": "code",
   "execution_count": 2,
   "metadata": {},
   "outputs": [
    {
     "name": "stdout",
     "output_type": "stream",
     "text": [
      "2492816949616\n",
      "2492816949616\n"
     ]
    }
   ],
   "source": [
    "a = 5\n",
    "b = 3+2\n",
    "\n",
    "print(id(a))\n",
    "print(id(b))"
   ]
  },
  {
   "cell_type": "code",
   "execution_count": 5,
   "metadata": {},
   "outputs": [
    {
     "name": "stdout",
     "output_type": "stream",
     "text": [
      "-6\n",
      "-6\n"
     ]
    }
   ],
   "source": [
    "# Используя цикл while, найдите первое целое число, которое не кэшируется в памяти.\n",
    "a = 0\n",
    "b = 0\n",
    "while a is b:\n",
    "    a -= 1\n",
    "    b -= 1\n",
    "print(a)\n",
    "print(b)"
   ]
  },
  {
   "cell_type": "code",
   "execution_count": 8,
   "metadata": {},
   "outputs": [
    {
     "name": "stdout",
     "output_type": "stream",
     "text": [
      "True\n"
     ]
    }
   ],
   "source": [
    "shopping_center = (\"Галерея\", \"Санкт-Петербург\", \"Лиговский пр., 30\", [\"H&M\", \"Zara\"])\n",
    "list_id_before = id(shopping_center[-1])\n",
    "\n",
    "shopping_center[-1].append(\"Uniqlo\")\n",
    "list_id_after = id(shopping_center[-1])\n",
    "\n",
    "print(list_id_before == list_id_after)"
   ]
  },
  {
   "cell_type": "code",
   "execution_count": 15,
   "metadata": {},
   "outputs": [
    {
     "name": "stdout",
     "output_type": "stream",
     "text": [
      "unique symbols:  11\n"
     ]
    }
   ],
   "source": [
    "# Напишите программу, которая на вход принимает текст и выводит количество уникальных символов.\n",
    "\n",
    "text = input(\"Input text:\")\n",
    "\n",
    "unique = set(text)\n",
    "\n",
    "print(\"unique symbols: \", len(unique))\n"
   ]
  },
  {
   "cell_type": "code",
   "execution_count": 3,
   "metadata": {},
   "outputs": [
    {
     "name": "stdout",
     "output_type": "stream",
     "text": [
      "{'1', '7', ' ', '3', '6', '8', '2', '5', '4'} {'1', ' ', '0', '6', '8', '2', '4'}\n",
      "{'7', '0', '3', '5'}\n"
     ]
    }
   ],
   "source": [
    "#Напишите программу, которая на вход получает две последовательности целых чисел, а возвращает список элементов, встречающихся только в одной из последовательностей. \n",
    "#Какую операцию над множествами вы использовали? Введи только название метода без скобок.\n",
    "a = input(\"a: \")\n",
    "b = input(\"b: \")\n",
    "#сделать a и b списками, и уже списки переводить в сеты, тогда всё пашет \n",
    "aset = set(a)\n",
    "bset = set(b)\n",
    "print(aset, bset)\n",
    "abset = aset.symmetric_difference(bset)\n",
    "\n",
    "print(abset)"
   ]
  },
  {
   "cell_type": "code",
   "execution_count": 10,
   "metadata": {},
   "outputs": [
    {
     "name": "stdout",
     "output_type": "stream",
     "text": [
      "<class 'tuple'>\n",
      "1\n"
     ]
    }
   ],
   "source": [
    "some_var = (2,)\n",
    "if some_var is None:\n",
    "    print(\"NoneType\")\n",
    "else:\n",
    "    print(type(some_var))\n",
    "\n",
    "a = None # пустая строка\n",
    "b = a or 1\n",
    "\n",
    "print(b)"
   ]
  },
  {
   "cell_type": "code",
   "execution_count": 11,
   "metadata": {},
   "outputs": [
    {
     "name": "stdout",
     "output_type": "stream",
     "text": [
      "foo\n"
     ]
    }
   ],
   "source": [
    "a = \"foo\"\n",
    "b = \"bar\"\n",
    "\n",
    "print(1 and a or b)"
   ]
  },
  {
   "cell_type": "code",
   "execution_count": 12,
   "metadata": {},
   "outputs": [
    {
     "name": "stdout",
     "output_type": "stream",
     "text": [
      "bar\n"
     ]
    }
   ],
   "source": [
    "a = \"\"\n",
    "b = \"bar\"\n",
    "\n",
    "print(1 and a or b)"
   ]
  },
  {
   "cell_type": "code",
   "execution_count": 2,
   "metadata": {},
   "outputs": [
    {
     "name": "stdout",
     "output_type": "stream",
     "text": [
      "Обе переменные истинные\n",
      "3 5\n"
     ]
    }
   ],
   "source": [
    "a = int(input())\n",
    "b = int(input())\n",
    "# пусть a и b - переменные, которые мы хотим проверить\n",
    "if a and b : # проверка истинности обеих переменных\n",
    "    print(\"Обе переменные истинные\")\n",
    "    print(a,b)\n",
    "elif a or b:\n",
    "    print(\"Одна из переменных истинная\")\n",
    "    print(a or b) # печать значения одной переменной, которая является истинной\n",
    "else:\n",
    "    print(\"false\")"
   ]
  },
  {
   "cell_type": "code",
   "execution_count": 8,
   "metadata": {},
   "outputs": [
    {
     "name": "stdout",
     "output_type": "stream",
     "text": [
      "False\n"
     ]
    }
   ],
   "source": [
    "a = int(input())\n",
    "\n",
    "if type(a) == int:\n",
    "    if 100 <= a <= 999:\n",
    "        if a % 2 == 0 and a % 3 == 0:\n",
    "            print(True)\n",
    "        else:\n",
    "            print(False)\n",
    "    else:\n",
    "            print(False)\n",
    "else:\n",
    "            print(False)"
   ]
  },
  {
   "cell_type": "code",
   "execution_count": 7,
   "metadata": {},
   "outputs": [
    {
     "name": "stdout",
     "output_type": "stream",
     "text": [
      "True\n"
     ]
    }
   ],
   "source": [
    "a = int(input())\n",
    "if type(a) is int:\n",
    "    print(True)"
   ]
  },
  {
   "cell_type": "code",
   "execution_count": null,
   "metadata": {},
   "outputs": [],
   "source": [
    "if type(a) == int and 100 <= a <= 999 and a % 2 == 0 and a % 3 == 0:\n",
    "    print(True)"
   ]
  },
  {
   "cell_type": "code",
   "execution_count": null,
   "metadata": {},
   "outputs": [],
   "source": [
    "if all([type(a) == int, 100 <= a <= 999, a % 2 == 0, a % 3 == 0]):\n",
    "    print(True)"
   ]
  },
  {
   "cell_type": "code",
   "execution_count": 12,
   "metadata": {},
   "outputs": [
    {
     "name": "stdout",
     "output_type": "stream",
     "text": [
      "True\n"
     ]
    }
   ],
   "source": [
    "#Напишите программу, которая на вход принимает последовательность целых чисел, и возвращает True, если все числа ненулевые, и False, если хотя бы одно число равно 0.\n",
    "a = list(map(int, input().split()))\n",
    "print(all(a))"
   ]
  },
  {
   "cell_type": "code",
   "execution_count": 4,
   "metadata": {},
   "outputs": [
    {
     "name": "stdout",
     "output_type": "stream",
     "text": [
      "True\n"
     ]
    }
   ],
   "source": [
    "#Напишите программу, которая на вход принимает последовательность целых чисел и возвращает True, если все числа равны нулю, и False, если найдется хотя бы одно ненулевое число.\n",
    "L = list(map(int, input().split()))\n",
    "print(not any(L))"
   ]
  },
  {
   "cell_type": "code",
   "execution_count": 13,
   "metadata": {},
   "outputs": [
    {
     "name": "stdout",
     "output_type": "stream",
     "text": [
      "[[1, 2, 3, 4, 5, 6, 7, 8, 9, 10], [2, 4, 6, 8, 10, 12, 14, 16, 18, 20], [3, 6, 9, 12, 15, 18, 21, 24, 27, 30], [4, 8, 12, 16, 20, 24, 28, 32, 36, 40], [5, 10, 15, 20, 25, 30, 35, 40, 45, 50], [6, 12, 18, 24, 30, 36, 42, 48, 54, 60], [7, 14, 21, 28, 35, 42, 49, 56, 63, 70], [8, 16, 24, 32, 40, 48, 56, 64, 72, 80], [9, 18, 27, 36, 45, 54, 63, 72, 81, 90], [10, 20, 30, 40, 50, 60, 70, 80, 90, 100]]\n"
     ]
    }
   ],
   "source": [
    "#При помощи генератора списков создайте таблицу умножения чисел от 1 до 10.\n",
    "M = [[i*j for j in range(1,11)]for i in range(1,11)]\n",
    "print(M)"
   ]
  },
  {
   "cell_type": "code",
   "execution_count": 14,
   "metadata": {},
   "outputs": [
    {
     "name": "stdout",
     "output_type": "stream",
     "text": [
      "[False, True, False, True, False]\n"
     ]
    }
   ],
   "source": [
    "#Модифицируйте последний пример таким образом, чтобы в список сохранялось True, если элемент четный, и False, если элемент нечетный.\n",
    "L = [int(input()) % 2 == 0 for i in range(5)]\n",
    "print(L)"
   ]
  },
  {
   "cell_type": "code",
   "execution_count": 21,
   "metadata": {},
   "outputs": [
    {
     "name": "stdout",
     "output_type": "stream",
     "text": [
      "a = 0 b = 10 c = 0\n",
      "a = 1 b = 9 c = 9\n",
      "a = 2 b = 8 c = 16\n",
      "a = 3 b = 7 c = 21\n",
      "a = 4 b = 6 c = 24\n",
      "a = 5 b = 5 c = 25\n",
      "a = 6 b = 4 c = 24\n",
      "a = 7 b = 3 c = 21\n",
      "a = 8 b = 2 c = 16\n",
      "a = 9 b = 1 c = 9\n"
     ]
    }
   ],
   "source": [
    "#Используя функцию zip() внутри генераторов списков, вычислите поэлементные произведения списков L и M.\n",
    "L = [i for i in range(10)]\n",
    "M = [i for i in range(10,0,-1)]\n",
    "for a, b in zip(L,M):\n",
    "    c = a * b\n",
    "    print('a =', a, 'b =', b, 'c =', c)"
   ]
  },
  {
   "cell_type": "code",
   "execution_count": 30,
   "metadata": {},
   "outputs": [
    {
     "name": "stdout",
     "output_type": "stream",
     "text": [
      "a3b2c4d1a2\n"
     ]
    }
   ],
   "source": [
    "#Реализуйте программу, которая сжимает последовательность символов. На вход подается последовательность вида: aaabbccccdaa\n",
    "#Необходимо вывести строку, где каждая последовательность из одинаковых символов, идущих подряд, заменяется на один символ, \n",
    "# и длину этой последовательности (включая последовательности единичной длины). \n",
    "# Вывод должен выглядеть так: a3b2c4d1a2\n",
    "text = input() # получаем строку\n",
    "\n",
    "last = text[0] # сохраняем первый символ\n",
    "count = 0 # заводим счетчик\n",
    "result = '' # и результирующую строку\n",
    "\n",
    "for c in text:\n",
    "    if c == last: # если символ совпадает с сохраненным, \n",
    "        count += 1 # то увеличиваем счетчик\n",
    "    else:\n",
    "        result += last + str(count) # иначе - записываем в результат\n",
    "        last = c # и обновляем сохраненный символ с его счетчиком\n",
    "        count = 1\n",
    "        \n",
    "result += last + str(count) # и добавляем в результат последний символ\n",
    "print(result)"
   ]
  },
  {
   "cell_type": "code",
   "execution_count": 33,
   "metadata": {},
   "outputs": [
    {
     "name": "stdout",
     "output_type": "stream",
     "text": [
      "4.5\n"
     ]
    }
   ],
   "source": [
    "def linear_solve(a, b):\n",
    "    return b / a\n",
    "print(linear_solve(2, 9))\n",
    "#print(linear_solve(0,1))"
   ]
  },
  {
   "cell_type": "code",
   "execution_count": null,
   "metadata": {},
   "outputs": [],
   "source": [
    "def linear_solve(a, b):\n",
    "    if a: \n",
    "        return b / a\n",
    "    elif not a and not b: # снова используем числа в логических выражениях\n",
    "        return \"Бесконечное количество корней\"\n",
    "    else:\n",
    "        return \"Нет корней\""
   ]
  },
  {
   "cell_type": "code",
   "execution_count": 44,
   "metadata": {},
   "outputs": [
    {
     "name": "stdout",
     "output_type": "stream",
     "text": [
      "(-2.119632981180225, 0.7862996478468913)\n"
     ]
    }
   ],
   "source": [
    "def X(a, b, c):\n",
    "    return b ** 2 - 4 * a * c\n",
    "\n",
    "def equation(a, b, c):\n",
    "    D = b**2 - 4*a*c\n",
    "    if D < 0:\n",
    "        return('Fail')\n",
    "    elif D == 0:\n",
    "        x = -b/(2*a)\n",
    "        return(x)\n",
    "    else:\n",
    "        x = (-b - D ** 0.5) / (2 * a), (-b + D ** 0.5) / (2 * a)\n",
    "        return(x)\n",
    "print(equation(3, 4, -5))"
   ]
  },
  {
   "cell_type": "code",
   "execution_count": 2,
   "metadata": {},
   "outputs": [
    {
     "data": {
      "text/plain": [
       "1"
      ]
     },
     "execution_count": 2,
     "metadata": {},
     "output_type": "execute_result"
    }
   ],
   "source": [
    "#Напишите рекурсивную функцию, находящую минимальный элемент\n",
    "#списка без использование циклов и встроенной функции min().\n",
    "def min_n(L):\n",
    "    if len(L) == 1:\n",
    "        return L[0]\n",
    "    return L[0] if L[0] < min_n(L[1:]) else min_n(L[1:])\n",
    "L = [2, 4, 6, 7, 1, 6, 3, 9]\n",
    "min_n(L)"
   ]
  },
  {
   "cell_type": "code",
   "execution_count": 13,
   "metadata": {},
   "outputs": [
    {
     "data": {
      "text/plain": [
       "54321"
      ]
     },
     "execution_count": 13,
     "metadata": {},
     "output_type": "execute_result"
    }
   ],
   "source": [
    "#Напишите рекурсивную функцию, которая зеркально разворачивает число. Предполагается, что число не содержит нули.\n",
    "def mirror(a, res = 0):\n",
    "    return mirror(a // 10, res * 10 + a % 10) if a else res\n",
    "\n",
    "a = 12345\n",
    "mirror(a)"
   ]
  },
  {
   "cell_type": "code",
   "execution_count": null,
   "metadata": {},
   "outputs": [],
   "source": [
    "#Реализовать функцию equal(N, S), проверяющую, совпадает ли сумма цифр числа N с числом S.\n",
    "#При написании программы следует обратить внимание на то, что, если S стала отрицательной, то необходимо сразу вернуть False.\n",
    "def equal(N, S):\n",
    "    sum = 0\n",
    "    if S < 0:\n",
    "        return False\n",
    "    if N < 10:\n",
    "        return N == S\n",
    "    else:\n",
    "        return equal(N // 10, S - N  % 10)"
   ]
  },
  {
   "cell_type": "code",
   "execution_count": 15,
   "metadata": {},
   "outputs": [
    {
     "name": "stdout",
     "output_type": "stream",
     "text": [
      "2.7181652432261854\n"
     ]
    }
   ],
   "source": [
    "def e():\n",
    "    n = 1\n",
    "    \n",
    "    while True:\n",
    "        yield (1 + 1 / n) ** n\n",
    "        n += 1\n",
    "last = 0\n",
    "for a in e(): # e() - генератор\n",
    "    if (a - last) < 0.00000001: # ограничение на точность\n",
    "        print(a)\n",
    "        break # после достижения которого - завершаем цикл\n",
    "    else:\n",
    "        last = a # иначе - присваиваем новое значение "
   ]
  },
  {
   "cell_type": "code",
   "execution_count": 18,
   "metadata": {},
   "outputs": [
    {
     "name": "stdout",
     "output_type": "stream",
     "text": [
      "H\n",
      "e\n",
      "l\n",
      "l\n",
      "o\n",
      "!\n"
     ]
    },
    {
     "ename": "StopIteration",
     "evalue": "",
     "output_type": "error",
     "traceback": [
      "\u001b[1;31m---------------------------------------------------------------------------\u001b[0m",
      "\u001b[1;31mStopIteration\u001b[0m                             Traceback (most recent call last)",
      "\u001b[1;32m~\\AppData\\Local\\Temp/ipykernel_16720/1589242165.py\u001b[0m in \u001b[0;36m<module>\u001b[1;34m\u001b[0m\n\u001b[0;32m      1\u001b[0m \u001b[0miter_obj\u001b[0m \u001b[1;33m=\u001b[0m \u001b[0miter\u001b[0m\u001b[1;33m(\u001b[0m\u001b[1;34m\"Hello!\"\u001b[0m\u001b[1;33m)\u001b[0m\u001b[1;33m\u001b[0m\u001b[1;33m\u001b[0m\u001b[0m\n\u001b[0;32m      2\u001b[0m \u001b[1;32mfor\u001b[0m \u001b[0mi\u001b[0m \u001b[1;32min\u001b[0m \u001b[0mrange\u001b[0m\u001b[1;33m(\u001b[0m\u001b[1;36m15\u001b[0m\u001b[1;33m)\u001b[0m\u001b[1;33m:\u001b[0m\u001b[1;33m\u001b[0m\u001b[1;33m\u001b[0m\u001b[0m\n\u001b[1;32m----> 3\u001b[1;33m     \u001b[0mprint\u001b[0m\u001b[1;33m(\u001b[0m\u001b[0mnext\u001b[0m\u001b[1;33m(\u001b[0m\u001b[0miter_obj\u001b[0m\u001b[1;33m)\u001b[0m\u001b[1;33m)\u001b[0m\u001b[1;33m\u001b[0m\u001b[1;33m\u001b[0m\u001b[0m\n\u001b[0m",
      "\u001b[1;31mStopIteration\u001b[0m: "
     ]
    }
   ],
   "source": [
    "iter_obj = iter(\"Hello!\")\n",
    "for i in range(15):\n",
    "    print(next(iter_obj)) "
   ]
  },
  {
   "cell_type": "code",
   "execution_count": 20,
   "metadata": {},
   "outputs": [
    {
     "name": "stdout",
     "output_type": "stream",
     "text": [
      "Пользователь неавторизован. Функция выполнена не будет\n"
     ]
    }
   ],
   "source": [
    "yesno = input(\"\"\"Введите Y, если хотите авторизоваться или N, \n",
    "             если хотите продолжить работу как анонимный пользователь: \"\"\")\n",
    "\n",
    "auth = yesno == \"Y\"\n",
    "\n",
    "\n",
    "def is_auth(func):\n",
    "    def wrapper():\n",
    "        if auth:\n",
    "            print(\"Пользователь авторизован\")\n",
    "            func()\n",
    "        else:\n",
    "            print(\"Пользователь неавторизован. Функция выполнена не будет\")\n",
    "    return wrapper\n",
    "\n",
    "\n",
    "@is_auth\n",
    "def from_db():\n",
    "    print(\"some data from database\")\n",
    "\n",
    "\n",
    "from_db()\\"
   ]
  },
  {
   "cell_type": "code",
   "execution_count": 28,
   "metadata": {},
   "outputs": [
    {
     "name": "stdout",
     "output_type": "stream",
     "text": [
      "Пользователь авторизован\n",
      "Accsess without data\n"
     ]
    }
   ],
   "source": [
    "USERS = ['admin', 'guest', 'director', 'root', 'superstar']\n",
    "\n",
    "yesno = input(\"\"\"Введите Y, если хотите авторизоваться или N, \n",
    "             если хотите продолжить работу как анонимный пользователь: \"\"\")\n",
    "\n",
    "auth = yesno == \"Y\"\n",
    "\n",
    "def is_auth(func):\n",
    "    def wrapper():\n",
    "        if auth:\n",
    "            print(\"Пользователь авторизован\")\n",
    "            func()\n",
    "        else:\n",
    "            print(\"Пользователь неавторизован. Функция выполнена не будет\")\n",
    "    return wrapper\n",
    "\n",
    "def has_access(func):\n",
    "    def wrapper():\n",
    "        if username == USERS[0]:\n",
    "            print('Access')\n",
    "            func()\n",
    "        elif username in USERS and username != USERS[0]:\n",
    "            print('Accsess without data')\n",
    "        else: \n",
    "            print('No access')\n",
    "    return wrapper\n",
    "\n",
    "\n",
    "if auth:\n",
    "    username = input(\"Введите ваш username:\")\n",
    "\n",
    "@is_auth\n",
    "@has_access\n",
    "def from_db():\n",
    "    print(\"some data from database\")\n",
    "\n",
    "from_db()"
   ]
  },
  {
   "cell_type": "code",
   "execution_count": 31,
   "metadata": {},
   "outputs": [
    {
     "name": "stdout",
     "output_type": "stream",
     "text": [
      "['this', 'is', 'lower', 'string']\n"
     ]
    }
   ],
   "source": [
    "#C помощью метода строки str.lower перевести все элементы списка в нижний регистр.\n",
    "L = ['THIS', 'IS', 'LOWER', 'STRING']\n",
    "print(list(map(str.lower, L)))"
   ]
  },
  {
   "cell_type": "code",
   "execution_count": 32,
   "metadata": {},
   "outputs": [
    {
     "name": "stdout",
     "output_type": "stream",
     "text": [
      "[1, 2]\n"
     ]
    }
   ],
   "source": [
    "# Из заданного списка вывести только положительные элементы\n",
    "def positive(x):\n",
    "    return x > 0  # функция возвращает только True или False\n",
    "\n",
    "result = filter(positive, [-2, -1, 0, 1, -3, 2, -3])\n",
    "\n",
    "# Возвращается итератор, т.е. перечисляйте или приводите к списку\n",
    "print(list(result))   # [1, 2]"
   ]
  },
  {
   "cell_type": "code",
   "execution_count": 33,
   "metadata": {},
   "outputs": [
    {
     "name": "stdout",
     "output_type": "stream",
     "text": [
      "[-2, 0, 2]\n"
     ]
    }
   ],
   "source": [
    "#Отфильтровать из заданного списка только четные элементы.\n",
    "def even(x):\n",
    "    return x % 2 == 0\n",
    "\n",
    "result = filter(even, [-2, -1, 0, 1, -3, 2, -3])\n",
    "print(list(result))"
   ]
  },
  {
   "cell_type": "code",
   "execution_count": 34,
   "metadata": {},
   "outputs": [
    {
     "name": "stdout",
     "output_type": "stream",
     "text": [
      "[-10, -9, -8, -7, -6, -5, -4, -3, -2, -1, 0, 1, 2, 3, 4, 5, 6, 7, 8, 9]\n",
      "[1, 4, 9, 16, 25, 36, 49, 64, 81]\n"
     ]
    }
   ],
   "source": [
    "# map + filter\n",
    "some_list = [i - 10 for i in range(20)]\n",
    "def pow2(x): return x**2\n",
    "def positive(x): return x > 0\n",
    "\n",
    "print(some_list)\n",
    "print(list(map(pow2, filter(positive, some_list))))"
   ]
  },
  {
   "cell_type": "code",
   "execution_count": 42,
   "metadata": {},
   "outputs": [
    {
     "data": {
      "text/plain": [
       "[(76, 184), (68, 174), (82, 191), (73, 179), (90, 189)]"
      ]
     },
     "execution_count": 42,
     "metadata": {},
     "output_type": "execute_result"
    }
   ],
   "source": [
    "#отсортировать по индексу массы тела\n",
    "data = [\n",
    "   (82, 191),\n",
    "   (68, 174),\n",
    "   (90, 189),\n",
    "   (73, 179),\n",
    "   (76, 184)\n",
    "]\n",
    "\n",
    "sorted(data, key = lambda x: x[0] / x[1] ** 2)"
   ]
  },
  {
   "cell_type": "code",
   "execution_count": 43,
   "metadata": {},
   "outputs": [
    {
     "data": {
      "text/plain": [
       "(68, 174)"
      ]
     },
     "execution_count": 43,
     "metadata": {},
     "output_type": "execute_result"
    }
   ],
   "source": [
    "#Из списка в предыдущем задании найти кортеж с минимальным индексом массы тела\n",
    "data = [\n",
    "   (82, 191),\n",
    "   (68, 174),\n",
    "   (90, 189),\n",
    "   (73, 179),\n",
    "   (76, 184)\n",
    "]\n",
    "\n",
    "min(sorted(data, key = lambda x: x[0] / x[1] ** 2))"
   ]
  },
  {
   "cell_type": "code",
   "execution_count": 39,
   "metadata": {},
   "outputs": [
    {
     "name": "stdout",
     "output_type": "stream",
     "text": [
      "[3, 3, 4, 4]\n"
     ]
    },
    {
     "data": {
      "text/plain": [
       "['ASD', 'BBD', 'DDFA', 'MCSA']"
      ]
     },
     "execution_count": 39,
     "metadata": {},
     "output_type": "execute_result"
    }
   ],
   "source": [
    "a = [\"asd\", \"bbd\", \"ddfa\", \"mcsa\"]\n",
    "\n",
    "print(list(map(len, a)))\n",
    "list(map(str.upper, a))"
   ]
  }
 ],
 "metadata": {
  "interpreter": {
   "hash": "fdb9b59dfc52f442e636964ade4cea2b5a6ecf40e76f4b6966161d96d4c856f2"
  },
  "kernelspec": {
   "display_name": "Python 3.10.1 64-bit",
   "language": "python",
   "name": "python3"
  },
  "language_info": {
   "codemirror_mode": {
    "name": "ipython",
    "version": 3
   },
   "file_extension": ".py",
   "mimetype": "text/x-python",
   "name": "python",
   "nbconvert_exporter": "python",
   "pygments_lexer": "ipython3",
   "version": "3.10.0"
  },
  "orig_nbformat": 4
 },
 "nbformat": 4,
 "nbformat_minor": 2
}
